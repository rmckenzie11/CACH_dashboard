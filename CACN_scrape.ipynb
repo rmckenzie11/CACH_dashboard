{
 "cells": [
  {
   "cell_type": "code",
   "execution_count": 1,
   "metadata": {},
   "outputs": [],
   "source": [
    "import numpy as np\n",
    "from urllib.request import Request, urlopen\n",
    "from bs4 import BeautifulSoup\n",
    "import pandas\n",
    "import requests"
   ]
  },
  {
   "cell_type": "code",
   "execution_count": 2,
   "metadata": {},
   "outputs": [],
   "source": [
    "def url_ok(url):\n",
    "    r = requests.head(url)\n",
    "    return r.status_code == 200\n",
    "\n",
    "def Convert(string): \n",
    "    li = list(string.split(\",\")) \n",
    "    return li \n",
    "\n",
    "def Convert_com(string): \n",
    "    li = list(string.split(\".,\")) \n",
    "    return li \n"
   ]
  },
  {
   "cell_type": "code",
   "execution_count": 3,
   "metadata": {},
   "outputs": [
    {
     "data": {
      "text/plain": [
       "['https://www.ourcommons.ca/DocumentViewer/en/43-1/CACN/meeting-1/evidence',\n",
       " 'https://www.ourcommons.ca/DocumentViewer/en/43-1/CACN/meeting-3/evidence',\n",
       " 'https://www.ourcommons.ca/DocumentViewer/en/43-1/CACN/meeting-4/evidence',\n",
       " 'https://www.ourcommons.ca/DocumentViewer/en/43-1/CACN/meeting-5/evidence',\n",
       " 'https://www.ourcommons.ca/DocumentViewer/en/43-1/CACN/meeting-7/evidence',\n",
       " 'https://www.ourcommons.ca/DocumentViewer/en/43-1/CACN/meeting-8/evidence']"
      ]
     },
     "execution_count": 3,
     "metadata": {},
     "output_type": "execute_result"
    }
   ],
   "source": [
    "meetings = []\n",
    "for i in range(20):\n",
    "    temp = str(i)\n",
    "    link = \"https://www.ourcommons.ca/DocumentViewer/en/43-1/CACN/meeting-\"+temp+\"/evidence\"\n",
    "    if url_ok(link) is True:\n",
    "        meetings.append(link)\n",
    "meetings"
   ]
  },
  {
   "cell_type": "code",
   "execution_count": 4,
   "metadata": {},
   "outputs": [
    {
     "name": "stdout",
     "output_type": "stream",
     "text": [
      ".\n",
      ".\n",
      ".\n",
      ".\n",
      ".\n",
      ".\n"
     ]
    }
   ],
   "source": [
    "transcript = []\n",
    "for i in meetings:\n",
    "    url = i\n",
    "    req = Request(url, headers={'User-Agent': 'Mozilla/5.0'})\n",
    "    html = urlopen(req).read()\n",
    "    soup = BeautifulSoup(html, 'lxml')\n",
    "    text = soup.find_all(\"div\", {\"class\": \"arrow interventionBox\"})\n",
    "    transcript.append(text)\n",
    "    print(\".\")\n"
   ]
  },
  {
   "cell_type": "code",
   "execution_count": 5,
   "metadata": {},
   "outputs": [
    {
     "name": "stdout",
     "output_type": "stream",
     "text": [
      ".\n",
      ".\n",
      ".\n",
      ".\n",
      ".\n",
      ".\n"
     ]
    }
   ],
   "source": [
    "dates = []\n",
    "for i in meetings:\n",
    "    req = Request(i, headers={'User-Agent': 'Mozilla/5.0'})\n",
    "    html = urlopen(req).read()\n",
    "    soup = BeautifulSoup(html, 'lxml')\n",
    "    text = str(soup.find_all(\"h2\"))\n",
    "    dates.append(text)\n",
    "    print(\".\")"
   ]
  },
  {
   "cell_type": "code",
   "execution_count": 6,
   "metadata": {},
   "outputs": [],
   "source": [
    "str_dates = str(dates)\n",
    "cleandates = BeautifulSoup(str_dates, \"lxml\").get_text()"
   ]
  },
  {
   "cell_type": "code",
   "execution_count": 7,
   "metadata": {},
   "outputs": [],
   "source": [
    "d = {'col1': cleandates, 'col2': transcript}\n",
    "df = pandas.DataFrame(data=d)"
   ]
  },
  {
   "cell_type": "code",
   "execution_count": 8,
   "metadata": {},
   "outputs": [],
   "source": [
    "speakers = []\n",
    "for i in meetings:\n",
    "    req = Request(i, headers={'User-Agent': 'Mozilla/5.0'})\n",
    "    html = urlopen(req).read()\n",
    "    soup = BeautifulSoup(html, 'lxml')\n",
    "    text = BeautifulSoup(str(soup.find_all(\"a\", {\"class\": \"PersonSpeakingPopup\"})), \"lxml\").get_text()\n",
    "    speakers.append(Convert(text))\n"
   ]
  },
  {
   "cell_type": "code",
   "execution_count": 9,
   "metadata": {},
   "outputs": [],
   "source": [
    "comments = []\n",
    "for i in meetings:\n",
    "    req = Request(i, headers={'User-Agent': 'Mozilla/5.0'})\n",
    "    html = urlopen(req).read()\n",
    "    soup = BeautifulSoup(html, 'lxml')\n",
    "    text = str(BeautifulSoup(str(soup.find_all(\"div\", {\"class\": \"arrow interventionBox\"})), \"lxml\").get_text())\n",
    "    comments.append(Convert_com(text))"
   ]
  },
  {
   "cell_type": "code",
   "execution_count": 10,
   "metadata": {},
   "outputs": [
    {
     "data": {
      "text/plain": [
       "['[The Clerk of the Committee (Ms. Christine Holke)',\n",
       " ' Ms. Lenore Zann (Cumberland—Colchester',\n",
       " ' Lib.)',\n",
       " ' The Clerk',\n",
       " ' The Clerk',\n",
       " ' The Chair (Hon. Geoff Regan (Halifax West',\n",
       " ' Lib.))',\n",
       " ' The Clerk',\n",
       " ' Ms. Leona Alleslev (Aurora—Oak Ridges—Richmond Hill',\n",
       " ' CPC)',\n",
       " ' The Clerk',\n",
       " ' Mr. Robert Oliphant (Don Valley West',\n",
       " ' Lib.)',\n",
       " ' The Clerk',\n",
       " ' The Clerk',\n",
       " ' Ms. Rachel Blaney (North Island—Powell River',\n",
       " ' NDP)',\n",
       " ' The Clerk',\n",
       " ' The Chair',\n",
       " ' Mr. Peter Fragiskatos (London North Centre',\n",
       " ' Lib.)',\n",
       " ' The Chair',\n",
       " ' Mr. Todd Doherty (Cariboo—Prince George',\n",
       " ' CPC)',\n",
       " ' The Chair',\n",
       " ' Ms. Leona Alleslev',\n",
       " ' The Chair',\n",
       " ' Mr. Robert Oliphant',\n",
       " ' The Chair',\n",
       " ' Mr. Todd Doherty',\n",
       " ' The Chair',\n",
       " ' The Chair',\n",
       " ' Mr. Peter Fragiskatos',\n",
       " ' Mr. Peter Fragiskatos',\n",
       " ' The Chair',\n",
       " ' Mr. Dan Albas (Central Okanagan—Similkameen—Nicola',\n",
       " ' CPC)',\n",
       " ' The Chair',\n",
       " ' Mr. Dan Albas',\n",
       " ' Mr. Robert Oliphant',\n",
       " ' Mr. Dan Albas',\n",
       " ' The Chair',\n",
       " ' Mr. Robert Oliphant',\n",
       " ' The Chair',\n",
       " ' Mr. Dan Albas',\n",
       " ' The Chair',\n",
       " ' Mr. Robert Oliphant',\n",
       " ' The Chair',\n",
       " ' Mr. Dan Albas',\n",
       " ' The Chair',\n",
       " ' Mr. Stéphane Bergeron (Montarville',\n",
       " ' BQ)',\n",
       " ' The Chair',\n",
       " ' Mr. Robert Oliphant',\n",
       " ' The Chair',\n",
       " ' Mr. Stéphane Bergeron',\n",
       " ' The Chair',\n",
       " ' Mr. Robert Oliphant',\n",
       " ' The Chair',\n",
       " ' Ms. Leona Alleslev',\n",
       " ' The Chair',\n",
       " ' Mr. Robert Oliphant',\n",
       " ' The Chair',\n",
       " ' Ms. Leona Alleslev',\n",
       " ' The Chair',\n",
       " ' Ms. Rachel Blaney',\n",
       " ' The Chair',\n",
       " ' Mr. Dan Albas',\n",
       " ' The Chair',\n",
       " ' Mr. Peter Fragiskatos',\n",
       " ' The Chair',\n",
       " ' Mr. Stéphane Bergeron',\n",
       " ' The Chair',\n",
       " ' Mr. Robert Oliphant',\n",
       " ' The Chair',\n",
       " ' Ms. Leona Alleslev',\n",
       " ' The Chair',\n",
       " ' Mr. Dan Albas',\n",
       " ' The Chair',\n",
       " ' Mr. Peter Fragiskatos',\n",
       " ' The Chair',\n",
       " ' Mr. Peter Fragiskatos',\n",
       " ' The Chair',\n",
       " ' Mr. Todd Doherty',\n",
       " ' The Chair',\n",
       " ' Mr. Dan Albas',\n",
       " ' The Chair',\n",
       " ' Mr. Stéphane Bergeron',\n",
       " ' The Chair',\n",
       " ' Mr. Robert Oliphant',\n",
       " ' The Chair',\n",
       " ' Mr. Stéphane Bergeron',\n",
       " ' The Chair',\n",
       " ' Mr. Peter Fragiskatos',\n",
       " ' The Chair',\n",
       " ' Mr. Robert Oliphant',\n",
       " ' The Chair',\n",
       " ' Mr. Peter Fragiskatos',\n",
       " ' The Chair',\n",
       " ' Mr. Peter Fragiskatos',\n",
       " ' The Chair',\n",
       " ' Mr. Peter Fragiskatos',\n",
       " ' The Chair',\n",
       " ' Mr. Dan Albas',\n",
       " ' The Chair',\n",
       " ' Mr. Peter Fragiskatos',\n",
       " ' The Chair',\n",
       " ' Mr. Peter Fragiskatos',\n",
       " ' Mr. Peter Fragiskatos',\n",
       " ' The Chair',\n",
       " ' Mr. Dan Albas',\n",
       " ' Mr. Peter Fragiskatos',\n",
       " ' Mr. Dan Albas',\n",
       " ' The Chair',\n",
       " ' Mr. Peter Fragiskatos',\n",
       " ' The Chair',\n",
       " ' Mr. Peter Fragiskatos',\n",
       " ' The Chair',\n",
       " ' Mr. Todd Doherty',\n",
       " ' The Chair',\n",
       " ' Mr. Todd Doherty',\n",
       " ' The Chair',\n",
       " ' Ms. Leona Alleslev',\n",
       " ' The Chair',\n",
       " ' Mr. Todd Doherty',\n",
       " ' The Chair',\n",
       " ' Ms. Leona Alleslev',\n",
       " ' The Chair',\n",
       " ' Ms. Leona Alleslev',\n",
       " ' The Chair',\n",
       " ' Mr. Robert Oliphant',\n",
       " ' Ms. Leona Alleslev',\n",
       " ' The Chair',\n",
       " ' Mr. Robert Oliphant',\n",
       " ' Ms. Leona Alleslev',\n",
       " ' The Chair',\n",
       " ' Mr. Robert Oliphant',\n",
       " ' The Chair',\n",
       " ' Mr. Stéphane Bergeron',\n",
       " ' The Chair',\n",
       " ' Ms. Leona Alleslev',\n",
       " ' The Chair',\n",
       " ' Ms. Rachel Blaney',\n",
       " ' The Chair',\n",
       " ' Mr. Peter Fragiskatos',\n",
       " ' The Chair',\n",
       " ' Mr. Todd Doherty',\n",
       " ' The Chair',\n",
       " ' Mr. Michael Barrett (Leeds—Grenville—Thousand Islands and Rideau Lakes',\n",
       " ' CPC)',\n",
       " ' The Chair',\n",
       " ' Mr. Dan Albas',\n",
       " ' The Chair',\n",
       " ' Mr. Robert Oliphant',\n",
       " ' The Chair',\n",
       " ' Ms. Lenore Zann',\n",
       " ' The Chair',\n",
       " ' Ms. Leona Alleslev',\n",
       " ' The Chair',\n",
       " ' Mr. Todd Doherty',\n",
       " ' Mr. Robert Oliphant',\n",
       " ' The Chair',\n",
       " ' Mr. Todd Doherty',\n",
       " ' Mr. Robert Oliphant',\n",
       " ' Mr. Todd Doherty',\n",
       " ' The Chair',\n",
       " ' Ms. Leona Alleslev',\n",
       " ' Mr. Dan Albas',\n",
       " ' Mr. Robert Oliphant',\n",
       " ' The Chair',\n",
       " ' The Chair',\n",
       " ' Ms. Leona Alleslev',\n",
       " ' Ms. Leona Alleslev',\n",
       " ' The Chair',\n",
       " ' Mr. Dan Albas',\n",
       " ' The Chair',\n",
       " ' Mr. Dan Albas',\n",
       " ' The Chair',\n",
       " ' Mr. Peter Fragiskatos',\n",
       " ' The Chair',\n",
       " ' Ms. Leona Alleslev',\n",
       " ' The Chair',\n",
       " ' Ms. Rachel Blaney',\n",
       " ' The Chair',\n",
       " ' Mr. Robert Oliphant',\n",
       " ' The Chair',\n",
       " ' Mr. Michael Barrett',\n",
       " ' The Chair',\n",
       " ' Mr. Stéphane Bergeron',\n",
       " ' The Chair',\n",
       " ' Mr. Robert Oliphant',\n",
       " ' The Chair',\n",
       " ' Mr. Dan Albas',\n",
       " ' The Chair',\n",
       " ' Mr. Todd Doherty',\n",
       " ' The Chair',\n",
       " ' Ms. Leona Alleslev',\n",
       " ' The Chair',\n",
       " ' Mr. Stéphane Bergeron',\n",
       " ' The Chair]']"
      ]
     },
     "execution_count": 10,
     "metadata": {},
     "output_type": "execute_result"
    }
   ],
   "source": [
    "speakers[0]"
   ]
  },
  {
   "cell_type": "code",
   "execution_count": 14,
   "metadata": {},
   "outputs": [],
   "source": [
    "with open('CACN.txt', 'w') as filehandle:\n",
    "    for listitem in comments:\n",
    "        filehandle.write('%s\\n' % listitem)\n"
   ]
  }
 ],
 "metadata": {
  "kernelspec": {
   "display_name": "Python 3",
   "language": "python",
   "name": "python3"
  },
  "language_info": {
   "codemirror_mode": {
    "name": "ipython",
    "version": 3
   },
   "file_extension": ".py",
   "mimetype": "text/x-python",
   "name": "python",
   "nbconvert_exporter": "python",
   "pygments_lexer": "ipython3",
   "version": "3.7.4"
  }
 },
 "nbformat": 4,
 "nbformat_minor": 2
}
